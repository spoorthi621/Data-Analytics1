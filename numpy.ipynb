{
 "cells": [
  {
   "cell_type": "code",
   "execution_count": 1,
   "id": "2e1e8003",
   "metadata": {},
   "outputs": [
    {
     "name": "stdout",
     "output_type": "stream",
     "text": [
      "[1 2 3]\n"
     ]
    }
   ],
   "source": [
    "#1.Create a ID array\n",
    "import numpy as np\n",
    "arr1=np.array([1,2,3])\n",
    "print(arr1)"
   ]
  },
  {
   "cell_type": "code",
   "execution_count": 2,
   "id": "0881eeb8",
   "metadata": {},
   "outputs": [
    {
     "data": {
      "text/plain": [
       "3"
      ]
     },
     "execution_count": 2,
     "metadata": {},
     "output_type": "execute_result"
    }
   ],
   "source": [
    "#2.accessing elements from the array\n",
    "arr1[2]"
   ]
  },
  {
   "cell_type": "code",
   "execution_count": 5,
   "id": "b00f3b84",
   "metadata": {},
   "outputs": [
    {
     "data": {
      "text/plain": [
       "array([1, 2, 5])"
      ]
     },
     "execution_count": 5,
     "metadata": {},
     "output_type": "execute_result"
    }
   ],
   "source": [
    "#change an element from the array\n",
    "arr1[2]=5\n",
    "arr1"
   ]
  },
  {
   "cell_type": "code",
   "execution_count": 6,
   "id": "ae50ebcf",
   "metadata": {},
   "outputs": [
    {
     "data": {
      "text/plain": [
       "array([1, 2, 5])"
      ]
     },
     "execution_count": 6,
     "metadata": {},
     "output_type": "execute_result"
    }
   ],
   "source": [
    "arr1"
   ]
  },
  {
   "cell_type": "code",
   "execution_count": 8,
   "id": "acbe8bd1",
   "metadata": {},
   "outputs": [
    {
     "name": "stdout",
     "output_type": "stream",
     "text": [
      "[[1 2 3]\n",
      " [4 5 6]]\n"
     ]
    }
   ],
   "source": [
    "#3.Craete a 2D array\n",
    "arr2=np.array([[1,2,3],[4,5,6]])\n",
    "print(arr2)"
   ]
  },
  {
   "cell_type": "code",
   "execution_count": 9,
   "id": "d2e4d84b",
   "metadata": {},
   "outputs": [
    {
     "name": "stdout",
     "output_type": "stream",
     "text": [
      "The shape is 2rows and 3 columns: (2, 3)\n"
     ]
    }
   ],
   "source": [
    "#Check the shape of array\n",
    "print(\"The shape is 2rows and 3 columns:\",arr2.shape)"
   ]
  },
  {
   "cell_type": "code",
   "execution_count": 10,
   "id": "f511d053",
   "metadata": {},
   "outputs": [
    {
     "name": "stdout",
     "output_type": "stream",
     "text": [
      "3\n",
      "3\n",
      "3\n",
      "4\n"
     ]
    }
   ],
   "source": [
    "#4.accessing elements from the array\n",
    "print(arr2[0][2])\n",
    "print(arr2[0,2])\n",
    "print(arr2[0,-1])\n",
    "print(arr2[-1,0])"
   ]
  },
  {
   "cell_type": "code",
   "execution_count": 11,
   "id": "57dbe6d3",
   "metadata": {},
   "outputs": [
    {
     "name": "stdout",
     "output_type": "stream",
     "text": [
      "['India' 'China' 'USA' 'Mexico']\n"
     ]
    }
   ],
   "source": [
    "#5.Array of type string\n",
    "arr3=np.array(['India','China','USA','Mexico'])\n",
    "print(arr3)"
   ]
  },
  {
   "cell_type": "code",
   "execution_count": 12,
   "id": "24a3d596",
   "metadata": {},
   "outputs": [
    {
     "data": {
      "text/plain": [
       "'China'"
      ]
     },
     "execution_count": 12,
     "metadata": {},
     "output_type": "execute_result"
    }
   ],
   "source": [
    "arr3[1]"
   ]
  },
  {
   "cell_type": "code",
   "execution_count": 14,
   "id": "add27395",
   "metadata": {},
   "outputs": [
    {
     "name": "stdout",
     "output_type": "stream",
     "text": [
      "[ 0  2  4  6  8 10 12 14 16 18]\n"
     ]
    }
   ],
   "source": [
    "#6.Array of evenly spaced values within a specified interval\n",
    "arr=np.arange(0,20,2)\n",
    "print(arr)"
   ]
  },
  {
   "cell_type": "code",
   "execution_count": 40,
   "id": "64ce8bbe",
   "metadata": {},
   "outputs": [
    {
     "name": "stdout",
     "output_type": "stream",
     "text": [
      "[ 0.          0.52631579  1.05263158  1.57894737  2.10526316  2.63157895\n",
      "  3.15789474  3.68421053  4.21052632  4.73684211  5.26315789  5.78947368\n",
      "  6.31578947  6.84210526  7.36842105  7.89473684  8.42105263  8.94736842\n",
      "  9.47368421 10.        ]\n"
     ]
    }
   ],
   "source": [
    "#Array of evenly spaced number in a specified interval\n",
    "arr=np.linspace(0,10,20)\n",
    "print(arr)"
   ]
  },
  {
   "cell_type": "code",
   "execution_count": 37,
   "id": "9f336f4e",
   "metadata": {},
   "outputs": [
    {
     "name": "stdout",
     "output_type": "stream",
     "text": [
      "[0.46084544 0.01450917 0.99351333 0.8594263  0.24042968 0.10569779\n",
      " 0.05427712 0.66157294 0.49099113 0.07859091]\n",
      "\n",
      "\n",
      "[[0.66851544 0.92511764 0.78177692 0.49850083]\n",
      " [0.22357732 0.83892239 0.67774502 0.63511526]\n",
      " [0.00704222 0.21978196 0.86761621 0.32226917]]\n"
     ]
    }
   ],
   "source": [
    "#7.Array of random values between 0 and 1 in  a given shape\n",
    "arr=np.random.rand(10)\n",
    "print(arr)\n",
    "print('\\n')\n",
    "arr=np.random.rand(3,4)\n",
    "print(arr)"
   ]
  },
  {
   "cell_type": "code",
   "execution_count": 23,
   "id": "85a8738e",
   "metadata": {},
   "outputs": [
    {
     "name": "stdout",
     "output_type": "stream",
     "text": [
      "[[10 10 10 10 10 10]\n",
      " [10 10 10 10 10 10]\n",
      " [10 10 10 10 10 10]\n",
      " [10 10 10 10 10 10]]\n"
     ]
    }
   ],
   "source": [
    "#8.Array of constatnt values in a given shape\n",
    "print(np.full((4,6),10))"
   ]
  },
  {
   "cell_type": "code",
   "execution_count": 18,
   "id": "0d47d613",
   "metadata": {},
   "outputs": [
    {
     "name": "stdout",
     "output_type": "stream",
     "text": [
      "[0 1 2 0 1 2 0 1 2]\n"
     ]
    }
   ],
   "source": [
    "#9.Create an  array by repetition\n",
    "#repeat each element of an array by a specified number of times\n",
    "arr=[0,1,2]\n",
    "print(np.tile(arr,3))"
   ]
  },
  {
   "cell_type": "code",
   "execution_count": 41,
   "id": "092f712c",
   "metadata": {},
   "outputs": [
    {
     "name": "stdout",
     "output_type": "stream",
     "text": [
      "[[1. 0. 0. 0.]\n",
      " [0. 1. 0. 0.]\n",
      " [0. 0. 1. 0.]\n",
      " [0. 0. 0. 1.]]\n"
     ]
    }
   ],
   "source": [
    "#10.Create and identity matrix\n",
    "identity_matrix=np.eye(4)\n",
    "print(identity_matrix)"
   ]
  },
  {
   "cell_type": "code",
   "execution_count": 20,
   "id": "edab633a",
   "metadata": {},
   "outputs": [
    {
     "name": "stdout",
     "output_type": "stream",
     "text": [
      "[[0.85804427 0.5933133  0.71616469 0.30806975 0.44075926]\n",
      " [0.50152149 0.47975657 0.32041065 0.13743609 0.07229274]\n",
      " [0.63807253 0.22397221 0.34642842 0.92838604 0.88184366]\n",
      " [0.24037926 0.02022803 0.07651015 0.2432651  0.15606834]\n",
      " [0.99655209 0.84609227 0.01295406 0.19180362 0.73088381]]\n"
     ]
    }
   ],
   "source": [
    "#11.create a 5*5 2D array for random numbers between 0 and 1\n",
    "arr=np.random.rand(5,5)\n",
    "print(arr)"
   ]
  },
  {
   "cell_type": "code",
   "execution_count": 21,
   "id": "4bc0cbae",
   "metadata": {},
   "outputs": [
    {
     "name": "stdout",
     "output_type": "stream",
     "text": [
      "[3.23456963 2.16336238 1.47246796 1.80896059 2.28184781]\n"
     ]
    }
   ],
   "source": [
    "#12.Sum an array along the column\n",
    "print(np.sum(arr,axis=0))"
   ]
  },
  {
   "cell_type": "code",
   "execution_count": 22,
   "id": "a4d13f4c",
   "metadata": {},
   "outputs": [
    {
     "name": "stdout",
     "output_type": "stream",
     "text": [
      "[2.91635127 1.51141753 3.01870286 0.73645087 2.77828585]\n"
     ]
    }
   ],
   "source": [
    "#13.Sum an array along the row\n",
    "print(np.sum(arr,axis=1))"
   ]
  },
  {
   "cell_type": "code",
   "execution_count": 25,
   "id": "33249ee5",
   "metadata": {},
   "outputs": [
    {
     "name": "stdout",
     "output_type": "stream",
     "text": [
      "0.4384483351031204\n",
      "0.3464284208595433\n",
      "0.30577445977586587\n",
      "0.09349802025122261\n"
     ]
    }
   ],
   "source": [
    "#14.Calculate the mean,median,sd, and variance\n",
    "print(np.mean(arr))\n",
    "print(np.median(arr))\n",
    "print(np.std(arr))\n",
    "print(np.var(arr))"
   ]
  },
  {
   "cell_type": "code",
   "execution_count": 26,
   "id": "93231f82",
   "metadata": {},
   "outputs": [
    {
     "name": "stdout",
     "output_type": "stream",
     "text": [
      "[[0.09369889 0.81083064 0.23206698 0.36202548 0.45992425]\n",
      " [0.79907649 0.8179482  0.26314388 0.27934154 0.34107854]\n",
      " [0.41989957 0.29794014 0.30081741 0.77629029 0.63402219]\n",
      " [0.78093156 0.54241978 0.23237162 0.03418693 0.53163413]\n",
      " [0.48476973 0.76525125 0.19864892 0.39668777 0.57801333]]\n"
     ]
    }
   ],
   "source": [
    "#15.Sort an array along the row using the sort() function\n",
    "arr=np.random.rand(5,5)\n",
    "print(arr)"
   ]
  },
  {
   "cell_type": "code",
   "execution_count": 27,
   "id": "442832d4",
   "metadata": {},
   "outputs": [
    {
     "name": "stdout",
     "output_type": "stream",
     "text": [
      "[[0.09369889 0.23206698 0.36202548 0.45992425 0.81083064]\n",
      " [0.26314388 0.27934154 0.34107854 0.79907649 0.8179482 ]\n",
      " [0.29794014 0.30081741 0.41989957 0.63402219 0.77629029]\n",
      " [0.03418693 0.23237162 0.53163413 0.54241978 0.78093156]\n",
      " [0.19864892 0.39668777 0.48476973 0.57801333 0.76525125]]\n"
     ]
    }
   ],
   "source": [
    "#sorting along the row\n",
    "print(np.sort(arr,axis=1))"
   ]
  },
  {
   "cell_type": "code",
   "execution_count": 28,
   "id": "df48bd5b",
   "metadata": {},
   "outputs": [],
   "source": [
    "#16.Append elements to an array using the appand() fuction\n",
    "arr=np.array([4,5,6,7])"
   ]
  },
  {
   "cell_type": "code",
   "execution_count": 29,
   "id": "be915588",
   "metadata": {},
   "outputs": [
    {
     "data": {
      "text/plain": [
       "array([4, 5, 6, 7, 8])"
      ]
     },
     "execution_count": 29,
     "metadata": {},
     "output_type": "execute_result"
    }
   ],
   "source": [
    "arr1=np.append(arr,8)\n",
    "arr1"
   ]
  },
  {
   "cell_type": "code",
   "execution_count": 30,
   "id": "1119f1f0",
   "metadata": {},
   "outputs": [
    {
     "name": "stdout",
     "output_type": "stream",
     "text": [
      "[ 4  5  6  7  9 10 11]\n"
     ]
    }
   ],
   "source": [
    "arr2=np.append(arr,[9,10,11])\n",
    "print(arr2)"
   ]
  },
  {
   "cell_type": "code",
   "execution_count": 31,
   "id": "47ca75c7",
   "metadata": {},
   "outputs": [
    {
     "name": "stdout",
     "output_type": "stream",
     "text": [
      "[ 4  5  6  7  8  9 10 11]\n",
      "\n",
      "\n",
      "[ 4  6  7  9 10 11]\n"
     ]
    }
   ],
   "source": [
    "#17.Delete mutiple elements in an array\n",
    "arr2=np.array([4,5,6,7,8,9,10,11])\n",
    "print(arr2)\n",
    "print('\\n')\n",
    "arr5=np.delete(arr2,[1,4])\n",
    "print(arr5)"
   ]
  },
  {
   "cell_type": "code",
   "execution_count": 32,
   "id": "bca800b5",
   "metadata": {},
   "outputs": [],
   "source": [
    "#18.Combine and split an array\n",
    "arr1=np.array([[1,2,3,4],[1,2,3,4]])\n",
    "arr2=np.array([[5,6,7,8],[5,6,7,8]])\n"
   ]
  },
  {
   "cell_type": "code",
   "execution_count": 35,
   "id": "0f48b1da",
   "metadata": {},
   "outputs": [
    {
     "name": "stdout",
     "output_type": "stream",
     "text": [
      "[[1 2 3 4]\n",
      " [1 2 3 4]\n",
      " [5 6 7 8]\n",
      " [5 6 7 8]]\n"
     ]
    }
   ],
   "source": [
    "#Combine the array items by column\n",
    "cat=np.concatenate((arr1,arr2),axis=0)\n",
    "print(cat)"
   ]
  },
  {
   "cell_type": "code",
   "execution_count": 34,
   "id": "f5f22ada",
   "metadata": {},
   "outputs": [
    {
     "name": "stdout",
     "output_type": "stream",
     "text": [
      "[[1 2 3 4 5 6 7 8]\n",
      " [1 2 3 4 5 6 7 8]]\n"
     ]
    }
   ],
   "source": [
    "#combine array items by row\n",
    "cat=np.concatenate((arr1,arr2),axis=1)\n",
    "print(cat)"
   ]
  },
  {
   "cell_type": "code",
   "execution_count": null,
   "id": "6f088873",
   "metadata": {},
   "outputs": [],
   "source": []
  }
 ],
 "metadata": {
  "kernelspec": {
   "display_name": "Python 3 (ipykernel)",
   "language": "python",
   "name": "python3"
  },
  "language_info": {
   "codemirror_mode": {
    "name": "ipython",
    "version": 3
   },
   "file_extension": ".py",
   "mimetype": "text/x-python",
   "name": "python",
   "nbconvert_exporter": "python",
   "pygments_lexer": "ipython3",
   "version": "3.9.7"
  }
 },
 "nbformat": 4,
 "nbformat_minor": 5
}
